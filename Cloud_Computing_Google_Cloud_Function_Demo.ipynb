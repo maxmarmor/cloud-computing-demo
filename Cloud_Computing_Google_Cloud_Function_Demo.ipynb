{
  "nbformat": 4,
  "nbformat_minor": 0,
  "metadata": {
    "colab": {
      "provenance": []
    },
    "kernelspec": {
      "name": "python3",
      "display_name": "Python 3"
    },
    "language_info": {
      "name": "python"
    }
  },
  "cells": [
    {
      "cell_type": "code",
      "execution_count": 1,
      "metadata": {
        "id": "gGyRlrgXAAwI"
      },
      "outputs": [],
      "source": [
        "from sklearn import datasets\n",
        "from sklearn.model_selection import train_test_split\n",
        "from sklearn.ensemble import RandomForestClassifier\n",
        "from sklearn.metrics import accuracy_score\n",
        "import joblib"
      ]
    },
    {
      "cell_type": "markdown",
      "source": [
        "# Train and save model"
      ],
      "metadata": {
        "id": "wOdko-1Z6fEC"
      }
    },
    {
      "cell_type": "code",
      "source": [
        "# Load and split data\n",
        "data = datasets.load_iris()\n",
        "X, y = data.data, data.target\n",
        "\n",
        "X_train, X_test, y_train, y_test = train_test_split(X, y, test_size=0.25, random_state=6546)"
      ],
      "metadata": {
        "id": "Xat2fS4-AQQ9"
      },
      "execution_count": 2,
      "outputs": []
    },
    {
      "cell_type": "code",
      "source": [
        "# Train and test RFC \n",
        "clf = RandomForestClassifier(n_jobs=-1)\n",
        "clf.fit(X_train, y_train)\n",
        "\n",
        "y_pred = clf.predict(X_test)\n",
        "\n",
        "print(\"Accuracy score:\", accuracy_score(y_test, y_pred))"
      ],
      "metadata": {
        "colab": {
          "base_uri": "https://localhost:8080/"
        },
        "id": "WU8S6fwDAYXf",
        "outputId": "c8c1d017-37d1-46ee-aaac-c65d2fd941d0"
      },
      "execution_count": 3,
      "outputs": [
        {
          "output_type": "stream",
          "name": "stdout",
          "text": [
            "Accuracy score: 0.9473684210526315\n"
          ]
        }
      ]
    },
    {
      "cell_type": "markdown",
      "source": [
        "# Reload model"
      ],
      "metadata": {
        "id": "DgihnbpX6igU"
      }
    },
    {
      "cell_type": "code",
      "source": [
        "# Save model to file\n",
        "joblib.dump(clf, \"iris.model\")"
      ],
      "metadata": {
        "colab": {
          "base_uri": "https://localhost:8080/"
        },
        "id": "LS7FkX5jAeRt",
        "outputId": "81cec782-e289-4770-d872-5b32c677cbe8"
      },
      "execution_count": 4,
      "outputs": [
        {
          "output_type": "execute_result",
          "data": {
            "text/plain": [
              "['iris.model']"
            ]
          },
          "metadata": {},
          "execution_count": 4
        }
      ]
    },
    {
      "cell_type": "code",
      "source": [
        "# Load the model from file and test\n",
        "new_clf = joblib.load(\"iris.model\")\n",
        "y_pred = new_clf.predict(X_test)\n",
        "\n",
        "print(\"Accuracy score loaded:\", accuracy_score(y_test, y_pred))"
      ],
      "metadata": {
        "colab": {
          "base_uri": "https://localhost:8080/"
        },
        "id": "CVndS3nqCXkU",
        "outputId": "36979f30-b4c5-4828-c144-fbec6fdfe4f9"
      },
      "execution_count": 5,
      "outputs": [
        {
          "output_type": "stream",
          "name": "stdout",
          "text": [
            "Accuracy score loaded: 0.9473684210526315\n"
          ]
        }
      ]
    },
    {
      "cell_type": "markdown",
      "source": [
        "# Create Cloud function"
      ],
      "metadata": {
        "id": "an6utNpo6oMv"
      }
    },
    {
      "cell_type": "code",
      "source": [
        "# Write Cloud Function code to file\n",
        "%%writefile main.py\n",
        "# Cloud function code\n",
        "import joblib\n",
        "from flask import abort\n",
        "\n",
        "def predict(request):\n",
        "  request_json = request.get_json()\n",
        "  features = [\"sepal_length\", \"sepal_width\", \"petal_length\", \"petal_width\"]\n",
        "  targets = [\"setosa\", \"versicolor\", \"virginica\"]\n",
        "\n",
        "  clf = joblib.load(\"iris.model\")\n",
        "\n",
        "  try:\n",
        "    feature_values = [request_json[val] for val in features]\n",
        "  except Exception as e:\n",
        "    return abort(400, \"Wrong input\")\n",
        "    \n",
        "  return dict(predicted_iris_type=targets[clf.predict([feature_values])[0]])"
      ],
      "metadata": {
        "colab": {
          "base_uri": "https://localhost:8080/"
        },
        "id": "xXJO4kAEHCdN",
        "outputId": "57c14626-dfbd-4f00-d50f-c8b92a09b94c"
      },
      "execution_count": 6,
      "outputs": [
        {
          "output_type": "stream",
          "name": "stdout",
          "text": [
            "Writing main.py\n"
          ]
        }
      ]
    },
    {
      "cell_type": "code",
      "source": [
        "# Check versions\n",
        "import sklearn\n",
        "\n",
        "# Collect versions\n",
        "versions = []\n",
        "versions.append(\"scikit-learn==\" + sklearn.__version__)\n",
        "versions.append(\"joblib==\" + joblib.__version__)\n",
        "versions = \"\\n\".join(versions)\n",
        "print(versions)\n",
        "\n",
        "# Create requirements file for Cloud Function\n",
        "with open(\"requirements.txt\", \"w\") as f:\n",
        "  f.write(versions)"
      ],
      "metadata": {
        "colab": {
          "base_uri": "https://localhost:8080/"
        },
        "id": "9ERswp9C8S7f",
        "outputId": "2b98377f-cc81-422e-f6fb-6527dc4b02e6"
      },
      "execution_count": 7,
      "outputs": [
        {
          "output_type": "stream",
          "name": "stdout",
          "text": [
            "scikit-learn==1.0.2\n",
            "joblib==1.2.0\n"
          ]
        }
      ]
    },
    {
      "cell_type": "code",
      "source": [
        "# Zip the cloud function code, requirements and the model\n",
        "!zip cf.zip main.py iris.model requirements.txt"
      ],
      "metadata": {
        "colab": {
          "base_uri": "https://localhost:8080/"
        },
        "id": "LH8McCXCOn_s",
        "outputId": "e79237cf-a6fe-41cb-e255-1dcf23ac514d"
      },
      "execution_count": 8,
      "outputs": [
        {
          "output_type": "stream",
          "name": "stdout",
          "text": [
            "  adding: main.py (deflated 44%)\n",
            "  adding: iris.model (deflated 88%)\n",
            "  adding: requirements.txt (deflated 3%)\n"
          ]
        }
      ]
    },
    {
      "cell_type": "code",
      "source": [
        "# Check Python version\n",
        "!python -V"
      ],
      "metadata": {
        "colab": {
          "base_uri": "https://localhost:8080/"
        },
        "id": "-onJCxJ5RGIe",
        "outputId": "fe1bcc9e-a387-402f-fd64-80acf2be1cd5"
      },
      "execution_count": 9,
      "outputs": [
        {
          "output_type": "stream",
          "name": "stdout",
          "text": [
            "Python 3.8.16\n"
          ]
        }
      ]
    },
    {
      "cell_type": "markdown",
      "source": [
        "Now upload the zip file as the source for your Google Cloud Function. Use the above Python version to prevent unexpected behaviour."
      ],
      "metadata": {
        "id": "PfIWqcD-Ayhb"
      }
    },
    {
      "cell_type": "markdown",
      "source": [
        "# Request Cloud Function"
      ],
      "metadata": {
        "id": "-MxDcEi27fkd"
      }
    },
    {
      "cell_type": "code",
      "source": [
        "# Request the Cloud Function (replace the cf_url endpoint with your own)\n",
        "from requests import post\n",
        "import json\n",
        "\n",
        "# Cloud Function API endpoint\n",
        "cf_url = \"https://cloud-computing-demo-euevx2rnnq-lm.a.run.app\"\n",
        "\n",
        "# Cloud function request, measure is cm\n",
        "cf_request = {  \n",
        "    \"sepal_length\": 1,  # measure is cm\n",
        "    \"sepal_width\": 2,  # measure is cm\n",
        "    \"petal_length\": 3,  # measure is cm\n",
        "    \"petal_width\": 4,  # measure is cm\n",
        "}\n",
        "\n",
        "# Get the data\n",
        "response = post(cf_url, json=cf_request)\n",
        "\n",
        "if response.ok:\n",
        "  print(json.loads(response.content))\n",
        "else:\n",
        "  print(response.content)"
      ],
      "metadata": {
        "colab": {
          "base_uri": "https://localhost:8080/"
        },
        "id": "FDMHD_5zPUxw",
        "outputId": "4a1e12e6-6143-4b70-a814-56cb5d600f7b"
      },
      "execution_count": 10,
      "outputs": [
        {
          "output_type": "stream",
          "name": "stdout",
          "text": [
            "{'predicted_iris_type': 'virginica'}\n"
          ]
        }
      ]
    },
    {
      "cell_type": "code",
      "source": [],
      "metadata": {
        "id": "cZPR3X5WFw0X"
      },
      "execution_count": null,
      "outputs": []
    }
  ]
}